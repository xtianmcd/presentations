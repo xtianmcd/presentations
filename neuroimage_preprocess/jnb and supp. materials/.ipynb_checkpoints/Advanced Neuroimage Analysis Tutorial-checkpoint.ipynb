{
 "cells": [
  {
   "cell_type": "markdown",
   "metadata": {
    "slideshow": {
     "slide_type": "slide"
    }
   },
   "source": [
    "# <p style=\"text-align: center;\"> Advanced Biomedical Imaging Analysis: </p>\n",
    "## <p style=\"text-align: center;\"> The Road Toward Deep Learning: \n",
    "## <p style=\"text-align: center;\"> Neuroimage Preprocessing and Postprocessing </p>\n",
    "\n",
    "### <p style=\"text-align: center;\"> Presented by Christian McDaniel </p>"
   ]
  },
  {
   "cell_type": "markdown",
   "metadata": {
    "slideshow": {
     "slide_type": "slide"
    }
   },
   "source": [
    "# <p style=\"text-align: center;\"> Background"
   ]
  },
  {
   "cell_type": "markdown",
   "metadata": {
    "slideshow": {
     "slide_type": "slide"
    }
   },
   "source": [
    "# <p style=\"text-align: center;\"> Background: \n",
    "\n",
    "## <p style=\"text-align: center;\"> Magnetic Resonance-Based Imaging"
   ]
  },
  {
   "cell_type": "markdown",
   "metadata": {
    "slideshow": {
     "slide_type": "slide"
    }
   },
   "source": [
    "Optical Imaging | X-Ray Imaging | Magnetic Resonance Imaging\n",
    " :-----:|:----:|:----:\n",
    "![](https://aemstatic-ww1.azureedge.net/content/dam/VSD/print-articles/2014/06/insightf1-1406vsd.jpg) | ![](http://www.phenotypescreening.com/images/PSC-imaging-concept.png) | ![](https://www.howequipmentworks.com/wp-content/uploads/2015/01/yellow_section.gif)"
   ]
  },
  {
   "cell_type": "markdown",
   "metadata": {
    "slideshow": {
     "slide_type": "slide"
    }
   },
   "source": [
    "# Magnetic Resonance Imaging\n",
    "\n",
    " Signal Generation and Reception   | Tissue Differentiation      \n",
    ":------:|:------:\n",
    "<img src=\"data:image/png;base64,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\" alt=\"resonance\" width=\"300\" height=\"100\" /> | <img src=\"http://www.sprawls.org/mripmt/MRI04/MRI%204-5.jpg\" alt=\"contrast\" width=\"400\" />"
   ]
  },
  {
   "cell_type": "markdown",
   "metadata": {
    "slideshow": {
     "slide_type": "slide"
    }
   },
   "source": [
    "# Magnetic Resonance Imaging - Signal Localization\n",
    "\n",
    "Slice selection (Z-axis) | Phase Encoding (Y-axis) |  Frequency Encoding (X-axis)\n",
    ":------------:|:--------------:|:----------:\n",
    "<img src=\"https://static.cambridge.org/resource/id/urn:cambridge.org:id:binary:20170614045535012-0877:9781107706958:64323fig8_6.png?pub-status=live\" alt=\"slice\" width=\"300\" /> | <img src=\"http://www.sprawls.org/mripmt/MRI09/MR%209-9.jpg\" alt=\"phase\" width=\"400\" /> | ![](https://qph.fs.quoracdn.net/main-qimg-469528f82f58b9e29d7ac5c4320eb9a8) "
   ]
  },
  {
   "cell_type": "markdown",
   "metadata": {
    "slideshow": {
     "slide_type": "slide"
    }
   },
   "source": [
    "# Magnetic Resonance Imaging - Image Construction\n",
    "\n",
    "K-Space  | Fourier Transform  \n",
    ":---:|:----:\n",
    "<img src=\"http://mriquestions.com/uploads/3/4/5/7/34572113/8323914_orig.gif\" alt=\"kspace\" width=\"500\" /> | <img src=\"http://mriquestions.com/uploads/3/4/5/7/34572113/4062968_orig.png\" alt=\"kspace\" width=\"500\" height=\"500\" />"
   ]
  },
  {
   "cell_type": "markdown",
   "metadata": {
    "slideshow": {
     "slide_type": "slide"
    }
   },
   "source": [
    "# <p style=\"text-align: center;\"> MRI Modalities"
   ]
  },
  {
   "cell_type": "markdown",
   "metadata": {
    "slideshow": {
     "slide_type": "slide"
    }
   },
   "source": [
    "# MRI: Anatomical Insights\n",
    "\n",
    "  |. |. \n",
    ":---:|:---:|:---:\n",
    "<img src=\"https://assets.aboutkidshealth.ca/akhassets/BT_Neuro_MRI2_MEDIMG-PHO_EN.jpg?RenditionID=10\" alt=\"mri\" width=\"300\" /> | <img src=\"https://abdominalkey.com/wp-content/uploads/2016/08/C3-2-FF1.gif\" alt=\"tumor\" width=\"300\" /> | <img src=\"https://encrypted-tbn0.gstatic.com/images?q=tbn:ANd9GcT8uLT1pMftybpfj5vInf-erWtfjy0SbKza81fsAU1JjjD5zIaW\" alt=\"seg\" height=\"500\" width=\"400\" />"
   ]
  },
  {
   "cell_type": "markdown",
   "metadata": {
    "slideshow": {
     "slide_type": "slide"
    }
   },
   "source": [
    "# Diffusion Weighted MR Imaging: Connectivity Insights \n",
    "\n",
    "![](https://multimodalneuroimaging.files.wordpress.com/2015/04/dwi.jpg)"
   ]
  },
  {
   "cell_type": "markdown",
   "metadata": {
    "slideshow": {
     "slide_type": "slide"
    }
   },
   "source": [
    "# function MR Imaging: Functional Insights\n",
    "\n",
    "experiment paradigm | voxel-wise tracking | network inference\n",
    ":----:|:-----:|:----:\n",
    "![](https://images.radiopaedia.org/images/626891/2fd5e3a4733cb761cdfe6e609ce269_jumbo.jpg) | ![](https://leanpub.com/site_images/principlesoffmri/.----images----fMRI.png) | ![](https://www.frontiersin.org/files/Articles/134814/fnhum-09-00461-HTML/image_m/fnhum-09-00461-g001.jpg)"
   ]
  },
  {
   "cell_type": "markdown",
   "metadata": {
    "slideshow": {
     "slide_type": "slide"
    }
   },
   "source": [
    "# MRI combines... "
   ]
  },
  {
   "cell_type": "markdown",
   "metadata": {
    "slideshow": {
     "slide_type": "slide"
    }
   },
   "source": [
    "# MRI combines... \n",
    "\n",
    "## &nbsp;&nbsp;&nbsp;&nbsp;&nbsp;&nbsp;&nbsp;&nbsp;&nbsp;  ... a symphony of magnetic transmissions ... <br>"
   ]
  },
  {
   "cell_type": "markdown",
   "metadata": {
    "slideshow": {
     "slide_type": "slide"
    }
   },
   "source": [
    "# MRI combines... \n",
    "\n",
    "## &nbsp;&nbsp;&nbsp;&nbsp;&nbsp;&nbsp;&nbsp;&nbsp;&nbsp;  ... a symphony of magnetic transmissions ... <br>\n",
    "\n",
    "## <p style=\"text-align: center;\">  ... physical properties at the atomic level ..."
   ]
  },
  {
   "cell_type": "markdown",
   "metadata": {
    "slideshow": {
     "slide_type": "slide"
    }
   },
   "source": [
    "# MRI combines... \n",
    "\n",
    "## &nbsp;&nbsp;&nbsp;&nbsp;&nbsp;&nbsp;&nbsp;&nbsp;&nbsp;  ... a symphony of magnetic transmissions ... <br>\n",
    "\n",
    "## <p style=\"text-align: center;\">  ... physical properties at the atomic level ... \n",
    "## &nbsp;&nbsp;&nbsp;&nbsp;&nbsp;&nbsp;&nbsp;&nbsp;&nbsp;&nbsp;&nbsp;&nbsp;&nbsp;&nbsp;&nbsp;&nbsp;&nbsp;&nbsp;&nbsp;&nbsp;&nbsp;&nbsp;  ... digitization and mathematical computation ..."
   ]
  },
  {
   "cell_type": "markdown",
   "metadata": {
    "slideshow": {
     "slide_type": "slide"
    }
   },
   "source": [
    "# MRI combines... \n",
    "\n",
    "## &nbsp;&nbsp;&nbsp;&nbsp;&nbsp;&nbsp;&nbsp;&nbsp;&nbsp;  ... a symphony of magnetic transmissions ... <br>\n",
    "\n",
    "## <p style=\"text-align: center;\">  ... physical properties at the atomic level ... \n",
    "## &nbsp;&nbsp;&nbsp;&nbsp;&nbsp;&nbsp;&nbsp;&nbsp;&nbsp;&nbsp;&nbsp;&nbsp;&nbsp;&nbsp;&nbsp;&nbsp;&nbsp;&nbsp;&nbsp;&nbsp;&nbsp;&nbsp;  ... digitization and mathematical computation ... \n",
    "\n",
    "## <p style=\"text-align: right;\"> ... and each introduces a source of noise!"
   ]
  },
  {
   "cell_type": "markdown",
   "metadata": {
    "slideshow": {
     "slide_type": "slide"
    }
   },
   "source": [
    "# Noise: MRI Artifacts\n",
    "\n",
    "Signal Transmission - Zipper Effect | Signal Acquisition - Aliasing \n",
    ":------:|:-----:\n",
    "![](https://www.auntminnieeurope.com/user/images/content_images/sup_mri/2015_06_01_12_44_02_823_2015_06_01_MRI-insider-zipper-artifact.jpg)  | <img src=\"http://www.revisemri.com/images/aliasedhead.jpg\" alt=\"aliasing\" width=\"300\" height=\"100\" />\n"
   ]
  },
  {
   "cell_type": "markdown",
   "metadata": {
    "slideshow": {
     "slide_type": "slide"
    }
   },
   "source": [
    "# Noise: MRI Artifacts - Gradient-Related Artifacts\n",
    "\n",
    "![](https://www.humanconnectome.org/storage/app/media/art/mr-preprocessing-fig1.png)"
   ]
  },
  {
   "cell_type": "markdown",
   "metadata": {
    "slideshow": {
     "slide_type": "slide"
    }
   },
   "source": [
    "# Noise: MRI Artifacts - Magnetization\n",
    "\n",
    "Ghosting | Susceptibility\n",
    ":---:|:---:\n",
    "![](http://mriquestions.com/uploads/3/4/5/7/34572113/3830667_orig.jpg) | ![](https://www.researchgate.net/profile/Joachim_Kettenbach/publication/6649032/figure/download/fig7/AS:277845931773956@1443255041013/Susceptibility-artifact-Two-manifestations-of-a-susceptibility-artifact-originating-from.png)"
   ]
  },
  {
   "cell_type": "markdown",
   "metadata": {
    "slideshow": {
     "slide_type": "slide"
    }
   },
   "source": [
    "# Noise: MRI Artifacts - Magnetization\n",
    "\n",
    "**Chemical Shift:**\n",
    "![](http://mriquestions.com/uploads/3/4/5/7/34572113/6071647_orig.jpg)"
   ]
  },
  {
   "cell_type": "markdown",
   "metadata": {
    "slideshow": {
     "slide_type": "slide"
    }
   },
   "source": [
    "# The acquisition physics are directly tied to the artifacts......\n",
    "\n"
   ]
  },
  {
   "cell_type": "markdown",
   "metadata": {
    "slideshow": {
     "slide_type": "slide"
    }
   },
   "source": [
    "# The acquisition physics are directly tied to the artifacts......\n",
    "\n",
    "\n",
    "\n",
    "\n",
    "\n",
    "\n",
    "# <p style=\"text-align: right ;\">...... which are directly tied to the problematic processing"
   ]
  },
  {
   "cell_type": "markdown",
   "metadata": {
    "slideshow": {
     "slide_type": "slide"
    }
   },
   "source": [
    "## E.g., _Hidden Cues: Deep Learning for Alzheimer's Disease_ (2016)\n",
    "\n",
    "_  | tSNE\n",
    ":---:|:---:\n",
    "<p style=\"text-align: left;\">+ Used tri-axial RAW MRI data <br><br> + Transfer learning from AlexNet <br><br> + data augmentation via mirror flip <br><br> + 66.51% accuracy re: classification of AD v. HC |!<img src=\"data:image/jpeg;base64,/9j/4AAQSkZJRgABAQAAAQABAAD/2wCEAAkGBxMSEhUSEhMWFRUXGRoWGBgYFx0dGxkfGCEdHR4fGyEdHSgiHR4lHyAaITEiKCorLi8uGCAzODMsNygtLisBCgoKDg0OGxAQGyslHyUvMy0tLS0wLTUtLy8tLS0yLS0tLSstLS0tLS0tLS0tLS0tLS0tLS0tLS0tLS0tLS0tLf/AABEIAPwAyAMBIgACEQEDEQH/xAAbAAEAAgMBAQAAAAAAAAAAAAAABQYDBAcCAf/EAD0QAAIBAwIEBQIEBAUDBAMAAAECEQADBBIhBQYxQRMiUWFxMoEUQpGxByNSoTNicsHRJOHwgpOiwhZDkv/EABcBAQEBAQAAAAAAAAAAAAAAAAABAgP/xAAoEQEBAQADAAAEBQUBAAAAAAAAARECITESQbHwMlFhkeEDInGBoRP/2gAMAwEAAhEDEQA/AOHUpSgV7tpMyYgTXistgfV8f7ipUvid4Pydk5Ns3bSEoOhMLqPosnfsPSSB1qGy8M2yytqDL1VlII3jv0NdbsWWOPjKmScf/p0S4othgyuA7R0Ostp9frNU7+J2+Y7zOu3bOr+rZRJ2G9SpdnzUysljr9j+1Y6l8DhrXFvMAFW1Z8Qkg7yFED3Jb96cqcr1iy8rcv2Hx1v5eT4OvX4QAST4cT9Q7kwAIkht6iuO2rwyL+Pfum74KvpMyNoIIPoRBqd4TzRYs4uPZa3ra3qJ1WlaNbMZUk7tBBAiNvaori2QcrOuNjKzeLbIUEQWAQA7SYHlJ60shZJFUvdv9I/asdTXHeXr+KLbZFt7YcQNgYKxIPm2MQYPYg1D3FgkU4043rHmlKVpopSlApSlApSlApSlApSlApSlApSlArJZYCZ7iNqx0olmpt+OE6R4l2EEJ08o6wN/WtbiOe19izF3cjcsNzuPQ+gAqNrLZGzTPTsJ7is1L4+eA/8AS36Grl/D7ha3b1+6bfitZEpbidTMYHX0329SK1MS1kWLAcWB4NxSdb4yPIAgnU06R1gyB1j1rY5W43+He8llWuPeIKAAhhElZCzOx6Dv3qb32zvfaU/iJYQ2LeXbtPjlrhQKfLqQjUjFQdjH66hUJwC5fbOWzZveF4oa2zkA6UM6+oMeUHpHp3re5343duWVx79trbBtcvqgxsunbbYkH4HvWjy1mLYz7d24QAEfzdQCQ4BMbxMfrUsl5RLJec6/NYeacGy+K13Ey7t17SpduJdcXJDE2yYIhXWFJ9iOlUrNsMq410tIvW2Yj3V3Q7fCg/erzxLmDGbEzEQIpuL0VNLOfLB2HTyyQfX3qk5mUHs4aAb2kuKx/wBdx3Hf0PeO9XlJF5ceMiEpSlbdClKUClKUClKUClKUClKUClKUClKUClfVWTArIthj0g/DD/mpsTY+49sEgn+oCIn/AHrc4fctgjxgxDDoipJ39TWHGtmQNp1AxI7fepjkxFObh6uikv0ndNbDbvuBtWfax7Vgv8d4jiOlzI8b8OXBZHtWhrUgAqYG0qIjboe4MYf4c4ouZGRcU6NNnyMROgvA/wD6iRPuanON2kfFylN83SLZMFIgodYk92nUB02A2qmcu5b2GTQ7KchAogDoG0GZPqvUbir5dXy6tP8AEjEJwxdZ0uMt4QyKVADqZiSdtQ/UGo/n2064+LfKotz6CVhvKVDICfUAHbtJFRfMHEXZbmLdusvhv5kZdgymOo3PX43mtPi/FGvWlseKpS2fKCIPcbkjeBsPSals0vKa6O+FZtXrVl8HGFhwk37jICQE03JJElizI3tHttyjMsMrXFWSofSD0lV1AHb2/eprmPjLZYRPIBrWNLTuQQSdyd/9qu9294Vz8CMTVhiBrPZAAHPT6tZDT1kimaSbHIXtkdRFeK3+I44t3Llsbqt0qD6gTH9qsnJ3IxzlLl/DSdIJ/MwEkD4Ak/b7bk2dtSqZSp7mPl44l42mOoEBkZdwykSCPX/kGoS6kRBmRPSO5HrVvRrxSlKilKUoFKUoFKUoFKUoFKVksDzfr+xqVLcjLip+YjuAP7/8VeP4b8IDWmveELzl2QBgpVNKFg3mMTqjr0Cn1g+OE8CxxhrdvODeupcNtTCqmjVpk7bsek7bx13rR4bl5GJjKpRVV3cq5YSYA1AQ3byncdCfWpOrdZnVusPMfCvDzwlpCNaC4EEEqSpJA7dQYHpAqNwslRctsrNbYHSrCAFMgzI6bmpteIsM3HysjQtu3pVvDYEAQx2CsT3Jj3iq+uA/h+IFlAZ1EPA6eg9qzy9Tl3ev+JvillrKXCcgMWOl1W5u8mTP9UHc+9feGcJR7FtmyrdtwD4asyyoLH6jqBWTJ9gQarjsGKrA6r0nv81c+Wcq9mWGxreLirZRYZ3DDzMCAdck6yZYR0IO0CKZrd4ydXb+yqXcp7guNduefbzGWLHpuwmdvnpWnftsYJEmDJ+CR/tW2+MAbiKuoJJJBP5ZE9OldE5FXIuYZXTYFmbhHiqTrXc3BI6L5hJ9h71eM78P/PLvn3+jmnD1OoadzqUxt2n1NXnM4zdN9We2BrJIt+LJY99wesx27CoPh/CXtZtzF0LrK3bfnYwupGGoGDuAZHrtWjxjhTYrpauL1JIYNs24B6qOhBBFat768OUvGdHFr7M12+yqdd2Z6gEgkgb/APkVfcHhN63jjHXIUXgZWwbYgO9vWV1apkqAJ6dQetUq9pOEokavxRJE76dAg/uKv3B+LHJY3rOCzhbmokIk9I0g6tzHm+e28048fmzJ651xDjF3KVXuEak8iwoACgExA9zUVkGQh/y9hH5m9KlsNLdvxkuo2oavDHTS3Tzbg7ekHpUPdbZPZf8A7NVszDO59/mxUpSjZSlKBSlKBSlKBSlKBWTH+r7H9jWOvqsRuKl8SzY6Tw/mK0mFYtkqzWwRoZJ+pmaZiII0epMdqwc58Wt3rWKqMH8NbnbSBqAIVukHZpE/uKoYy7n9bfrWW3kOwMueo6n5qXcTluPeTe1gDSo3X6ZPXVtuTXY7PDiumyHteF5V8MzqgKVI9NySSesioq5g4WM34c2ndgEHmRi10tBaCI0x2j7dTMC9i/jZOX4T3GSwUYljqKpcBYag3yAdtiJNJLEm8YrjcOuNkG1bVnNsgkDsFMExVn5GuWkwbni6x/P1Sj6WEKoQ9RO5aPg9N5ieXeNpYyXvPrbxLZTygat9JJMkehH3rLyFwnHuNcuX116WVUtdzqJlo6tpA6DqTTjxrcss164TaX8FxFhAJ0qmrrp1FiB7mB+lXDlm5ZGFjrcJnwrkabgX6mMhgT06TVM564Jbs3rDWrbW/FkNbII0lGC7AydwQY7Ga88TstjPbsiNTWxc3B+mG2PTfy1fG7lmpzjYtNxkE7obakhWOxW2NiymdiN4rU/iDw9E8K9ZZjbZ7iAF2YAqQdSluzAg1ocmYtzIvtdW74Asje6v5dR0qBv1JP71n/iBYyLfhasl79piwUtGzIQGH7fI+KL5k1CZRHgqoQA6tROok7g7QekV1fl8NbxMdFuC1NvfShYnxPPM7Q/0Dvsa5Tw3hxe1kXhaZwF2eYW3uGJP9RKggCe8wdqt/LuLey7AuNdFq3bBRBcaJCiSFABML1n4A9tdWTGeXHLcfeL8HTI4uyXH8JLlvxSymOiBm9Nz5vvVU5m4L+FyPDLB0Kq6P/Ujd+8d/wBDUnbzGt8RjIQXGUFW1+cEgAqQe4MAfDVj/iFl27ty21o6otlTsYB1MQBPSAQIG1a43uSM3j87FjbkzDI8NXm6RoXpBbTq1RE6T9IHqK5llpBj3NdlxObLQZCzIYCsW8Pvp06Ziekj5rj/ABIS7H3Jj71JyudrnbSpSlZQpSlApSlApSlApSlArcx7J09DJYDp/wCeta1pJO/oT+lWnkvhaX7917gLLbK+SCdRd9IkDsBJjvAFZvdxi93IseVzhquhh4ukkaiRuIM7dZ07desVgucUW7dz8ks6q1pdtP8AiE22tDVJMDvv/VUJzrwZce7ZuWg6pdLDSwIg22AOmfymQR6bjtX3mtWteCi3Dd8a0jlTJ0Fhso37A7fNam6uW9JDkDhVoWGyb1hsgFzbVFUtEAHUwHqSoHpua0OYMD8FxC21kNuEvKv5l1CSp9SDIn0g1K8v8TyMPG8M2LqQzOWIZQAQFOoEdiBv7movjeaeIZNlojSmkkEuQqySzEbxJP2itSXWnrmHi9/LNj+U2tHJkamLTp9pHT9ZrFxTMvZuVbcWnUpbKEbtABcyTAgSxG/tWa9hPgX8dx/MFotLadA1GW0k7+bTuPnpXrlLiz2b+VcWzcfxJI0DcHXqAJIPlO4OxPQwYrlu9Vi8t6fOSeNpiDIW6uos6wpWVJXVsR7TNOduO2si1at21C6LjGFWABAA+ZFYr/FL2TkLj2ktIb7C20WrZbU7QSWChgfXcVYeauB47YzNYuK12wpcjTbBIQ6W1aAN+rCZkfatSu1k91X8jB4g+CiGwwxUPjKwtnckHzse4gkT0gCpDlhcO9aGOuNcuOYF64UjSTqiGBOlQQvWNRJ23qz8gZuTk27Vy9kp4RJtm14YB2GhVEQNJUnb1WqPwfin4PIyVUHw/F+kNEi2zaQT37f3rUzE5ba2OQeGJev3ca7ZN0PCEqu9v6hqB/KQ2k+8RvVSuYpC3O+hgD/cf8VYeCcRu4197hDpqIYxKTBJ2kbif7VGCw9xb+lSSWUwoJnczpHUgf71Mq5V+wsa2cfH/nWrf8lBcVkUtv8AzdQJ6MTCyZ2Y9hVL55x9GdkBQApIYBenmCtsAAB16RXl+KuuhSx/liIjqB0B9YAjfttWfgyfjsu2txz/ADH85iNhBMAe2w+1XlytpOOd1WdJ9KEV2q9gY2QpxhitbhW0vpI0kA+GQ0eYNBnf1rjmX1FZTI16UpVZKsPK/Alyry2zsunW7D8qqJY/p/ciq9Vz5DyktXGZ9MNa0QxgGdPf4BP2os8Z+deTrOIqXLDF7ZbwyWMkPpDduxBBHwaVMc5ZeP8AhDasqifzVcBWk9DM943EUoa5bSlKIzYw3P8Apb9qtHK+fexRkXFs3Sjb6wpCjRJEtERv+sVVbDwT/pYfqDXSMniFu1wayupwblp7UKqlSzNJD9x9PUSdx2NYvtrNnWtLKXI4patOtshbTt5mcHUXKkxMQBGo9t/tUfiXmGfYW/qU2GVYePKFOw+x6de3arDwjNFrBsqVyVVLd0lrdpCjLcbcyWmI6ntsehmozXj8R4orKWFu4ArG6NJlEEltB7leopU3E7ncSxvCv6HYlrN8QboI3BJCj3aqJwTgt7IQtYBgShbWq+jHqRO3X5qX554VbxGsLZOoXLTM5M/UNS7SdoFSPLOlcKwTddJ8YHQo/OdMEkdSP02irZrVnyQWQ5fJ/C3itkB9RZ9wsLsWYGWGnp8is3HguKAcHM8RCTqVLrKRAG5CvEGevsR23wc7QcsQS38hdyIOyECfeAKsXKVwY+Jb8JbRvXRcNxnuW1KwdNvZz9K/UR31UnHjGZ/T7Q9i7jWOIYlxLmpAqvcJOrS5LSDAkAbT3irTxTjmMbGWEW0rXLbqSgIa4W2BG28ED7Saq3NWEDxFFsaUF4I40wyqbn1aTEETJ/tUvzJwa0uM9ywSroupp31AHSeo2MQ3xtVjrZJ0qPB+PtjhNDOrKSwKkQCZEwduntW3y3jJk5ZS6upGDXGDEjdVMEsCD1MmDvWmtpBZsNrYateuPZoECR2H96l+UMdTeybwRrvhf4dsidRdiAWE7wsmB3ik5Gy6l+cMa4MQeM9pylxNPhkkKpBXqd99OqKci2Lgw2NlrSXLl2NVwkeVQNgRvtq1fYVoc746Mlu/bQ2gzumiNAZRBRtO0GCZJG8ipnlnlTJuYuo5SWEb+YqskmD5dU6hALQPtPbfWJbMVjn9P+p1SCXtq5I6E6Yn7xWjyjl+DfS6Z8pJ269gY96c0NdF+4uQZuISnSOg0iPbaoGpYsvX3+jrNvnXSd9ZUAhZYbntPtMk+lcvzvq/X961qVDYV7siWFeKyY/1D5pTj7F75M5exLlo38yAmoovm0yQC3r02A+W+KiuZcP8Hea3aIKFQ6nrIIlZ9x0PuDVi5R4xbt462rott5i+l1n0iOoiQf1qD55z0v3FdCCBaCSAQDpn1+RTCcrqttxK4QQY32O33r7WlSmJ8RWSx9S/I/evltJnoI9a2MfEaQ0iJH7/ABUt6Y5WZVr5J4PZvW2v5V0qniCyqhgu8aiT/liB8mtPmbha2rtrw2LWbuh0BMlZkFT7j39qkOTuYEx8UISurxWfQVkMCoWT8eYfcVr8zcUXKbGRCzMPJ9MbsTC/O/UTSyQskni9aSMgKL9tbYIUJ4ZJAACaev0xPbqPeK5li3RZyLmmVK3GVIiBE7H7CKk7WRkm+RbyLlzIQlSotkkaAdQ6wQN+2/3qGycU2XHi6lJOrzKQSCNiPWfX2qcrs6Z5XZ19Ehw61d4hk6Hunw7dsku8eS2o+OstsPU1s81cAGFbVrd1rtotoYagNLxI2Egyvf2isPJ/EUwsi8bwaQmiNJMmVJGn1Md6kec+YrGTilERUcXEIVV0gABgT6HqPvVkdOXdQ/K2MmRnWkuh3U6i0tqLBVYwehMwF6jarDz3w1GxjeGKcd7Ztg+QKHDAqx26+eIPpIqk49+4rg2yQxVlnqYgggfaRVj5M4ZbuW2vZGp11+GqySBpGolgDv1AHya1xkza1z4zjyyIx825bfGusgLW7VsWwehHmIJ377ntXRXwszIxClxrYZ1Ci15p/mDUg1TsxAkCIG1c85o4Ytm8Ftk6bi27ihiZTVPlPrBBrqN+9iNlI53u+XcXfK3TSxHSQof/ANypjF7trmPDsFbuPkL/AIdzGHiCd9Yk6lIO0gQR8Gazct8Xa0lxvMHfzalHUrq2Pzqn7e9bGJxJLTcTUMCL2pFMbsGLHy/Yg/AqtPkk2Ft+bZi0dt5H61PG+HexY+N8cN6wlppJ1i4ZGywNIA+xJ6bVebPEMa3bsI+lyLVsyWJ0rpEghREBiTB3BQVv2eGWjjphGwDjgqS6kBjAMk/m1eJBjptFc95aZWuX1yCSiDSIUBtRIWdv0323rfqY0efriPlXHRtStpOob76QD8+aaq7CDFXfmbh+KMZnsszOrINTyCwIbYAQuxH9M7VTsnt96W+LJ/bawUpSoyV9Vo3FfKUGwM64BGrYew/4r5dy3bq0/Yd6wUpi/FSlKURs28dtLben7113hGZZs27OLbXGa0yW/E1XU1M5jxJXcsxlQBvGn2AqO5A4aqYtq8uL49y4Wkkr5YJCKNRiCwDE7dI3FVng+ALt7Lu3S4WyxhEmdTMQoEfSoj+wFZ7jMl3EZxrHNm9lW1ZtNu4UXzGY1GO/pUtZdLTcLZmIGrxLjTv/AIgMsfQAfoK3/wCH/C7TWLmTfttdVmNoQrMV21Fxp3n36jcjvWDmvg1pMvENsNatXyga2xM2jqCuPMTA779JqfDnaz+nx3+Ehyjb1HNuq6I7XYDvLCC7MRse8CfYVi55sk4Vl2dLjC9HkUjSHXUVkncSP/j71F8St3MJiiXT4eQpuKyiQyS0AkwQRuDHr71k5qwMqzjWhksQkgqkeYM4Y7mewXpO2vbvV3pJempgZFtMk3rpF2151LG1MkzpJUruRK9d+lb2LxPEcXSbSEAEIPCX6iCF1bbdm27hu5roS8OVVXFFuz+HgKwL+Y+WGkR9RJmZnyn2rjuLYCXzZLMFN8WiwMEDVpJ27xUz4Yu2T2seI6i4szCq2/fue3zUhwLmV8SyEtghtReexkAb9+0fep7lThePdu5wuIbiIwCEwWAJaTJ6bASfevXN3Dca3hC9jpofxUhiFlhpYECABEiYj0rfH8OLMvaCzeJ/jcixKE/RbOowTDE9R2AMTX3jlkWci9YRV0IobcnowU+u+7elZOX7ORee5bslURJBJgKJbvsdz2HeK1cVb+Zcd7dvUSml+gAUR03AEAAU9mz6rOM336oq5kk/T5SxUnTPuO9dGxrdq0n4MYwbWi672iZkEt5u0MVgTMhe9UHM4c+NdVLqw0jaQf7gx3H96sV/nC4SfI+nVqjXuJ6wQPXSf/TU+HGr3+FFcOzDiPdCN1aAYP5J36j1r3cwrtmbrLcRWJltJEggSDI77bVl4IRez7LMsK94uQd+nmg+vSK6Lxkm5jXle6jg2bp06TIKkshMnYjt7LUzWJao2Hy+2TYLWTfe2NWnyL5mHWF17nqJE7R6mqpl24+x/euicjeJ+FXRkpbXW0qQdWxLAr6SRB+RVb/iJbAzLxEeYqxgbSwBJ/U0b48rZiqUpStMFKUoFKUoFKUoLlw7mW5as27ataAtqVEGG31HchuxYnYb7V44BxlbP4uQ2q4/lKAQfr6ydhLA7T0qoVms3W1DzHqO5rN1Nsur3y3x84+B4Shg+stsBBDaQZ7zAIiI81Y+Z+NC/dw2ZSfCZNRuAEHcFh3lenXrJ2pyfxyzaxbtu8BcLXSdLKTIKgSD0EQf7bHtq83cSx3/AA5xbaWp1G4qW9AklYB9Yg9Ntx6wG3F+LO8+/wBmbjfErN+/gldMIQHhCAJadw3eBv2rxx2xezczJsrcAt22N+HY6QIAJkA7mRWlm51hsW1pWLyL5jpjUSwnUY82xgegn4rY5Zz7WPkX2dSAUVVgTHQkRtsYjr6U9rObUhxbIy7H/Utk22CuqeSGAJXV00wQdyT/AFVWOIYjWyjtcR2ut4nkaSOv17CGk9PY1YebePWsjFKhdL61YBU0qImTtsZBjpMz81r3eCk8Pu5dy2ytbe2bTfldHOgzv1nv7Gpy/IstaPCSz5As2Zm6BJZ4BlZaYG67E9+nc1Lc08CNvHNxXNxFgsNwQG2DAGQQT3qL5WzlXKtO6gBbemOgbykCfk/3qxcZ4jitiZC2gqnTpnxCx2YQAG6KTPT1PSuk4zZ/prlJtafJlq6bN9hZdkusplbgtzpJML3YiR8fNOSZGI5VxbY3BBZQQYB2M9u0+9R2bfuFcGzZuMhZSp0sQJZzvtHbrUxmcuW7eO5x8q54iq76Q2x8PqIXv6HvFTesi5Ghz+vkxyX8RgCpeInckbdh1P3qlVPjBv38P8QWLrbchpYlgAB0B/KNW++01BMOkVd6LxbvDs0WyrSwZSSCvY7QRuKkV44WBU3LsEEH3B7Hzb7mq/WWwdz8VnE4xb1yPwq2bZyNOpRdEI3l1+YTAMn1ielRvNFi4HZ7ofzxDtbZA8dxqAMdBEbVIcvXBf4jjFiHFtNvT+WGKz6wY29qsHG+LtxEXcLw3u3gQqMANKm0WDPOrZSCQdukVMdJ/b8vuuXMIr5U1xjly/jFReXTIBU9iPY+07jtUMwgkelWM8pj5SlKrJSlKBSlKBX1AZ2mfavlZLPf/Sal8S+M6Xbw6ax6wP8AtXy5fu9WLbdyOn6irzyty7i/hbd2/be690O4A1gKEYACU6kiWnsFjaqnzFwwY2TfsAlgkQSIJB0kSPg1MZzEcmU46MR8VZeRmFzJi7DDwnO4kkxAj1I7T6eoFVStrDy/DOoAyO4aP9quR099dE4vg2RiZDBlZhbRkPhKsb7CR1Yg/eqlkcZuvi+BrHh6Vle+3TfsJ3j1FYbF+9fe3Zt//shNB3B3IE+wn7b1YeYeUxZx2u2Lou6IFwFFErq06lifKHEfBHpvP8Jxs76ZuH8Nw7lmw17X4hQJ5WABgQBvP5omI6R3qK4hgYy5l6wJS34flJ1MbbkKd4MnqRB23qJtZVsWgST4kHYCBsTHT2/atB8o6iynSTtIJ/8AOtanKtZL3UzeuJYyLDBzcW2Q3SPTYb/+GrTf5rttauKyiWt3F/wxqJYQNRkx2M/NVbk5g2bj+IZWTOrcbAxI77xVt4nZjFyA9y2/8saISCIbV1HRpYjtIFReWaieUTbXCyCzvqKX0Cfk8yDc+5Ij/wBIqlXO33/etm1nMq6d4Ig7xIJmD6ia1WaaLcm/f5PNKUquaQ4Tnmw4uK+lgCOk9Z9o6Gr5yLdDLknxRae6UUXCNwCSxj+xI9q5nU1w7jfhKyrqGrYxHpH/AD+tRvdi/wDN2o8PbxLouuLqvsCAutTIE9ANwfU1yi71Pyam8zmB7ieGxcrOqDHX1/uf1qEfckx3omWR5pSlVkpSlApSlArLYG5+DWKlSpZsX7hvNV5Me3ZS23ktG3sxgyZ6AbbSD3qv8y5F3IvXL7W2XUqDoSPKFXrG52qFRZBH+Zf967CvKGHH4PwLmr6fxGg/VpnVqiCNW2j/AGqd1nuuOMhHUEfIrzWa7bKgqeoYg/asNWNRN8sZS2sizccwq6idp9R+9XPiHM2Lcs3VtqqNcRgNKwTPlhttuinf3Nc2t5DL0I/QHr8is1rKck7jf/KPUe1TuHGXxc+VMXGfGRbthne5I1wxgFyp0kbLpG/zUTg8BQ5WRYvXDpsgtqBEmGAET6gzFTGHzE9pBbRCqgDyrABI3J2Hc7+81XuJ5AuXcp3WGdZX/K2pT+umR9zWuM7b479ReHG3mDHBOrUFVh03Mq0/EGpd8RrouKMkvpR2ZfMJ0SQDPUnqKkOXbC2ce2wxjea6mosF1AGTAb0UKCT8+1QvE1XE4jcABClT5RBP81Pp9BBMfArXVTVVc9PivNfTXypU3SlKVB6TqKunIvK9jJRr2W5RCSlsLA1FRqMkjYdB8n2ql2+oronJ3H7VjFW22knUzEMhYHbbtHUVGtyIrIwjh8QsrJuWmKXF8oJZG6yAOo3HyKled8K01pMq1ba0WuFGUiJ7owH5ZEyPj7x/HONh83GvptogdImCSYHpuB9q2+Z+Pi/YW1vIcOZM+oEfY70al5XK5+a+V9NfKrnSlKUClKUClKUGxiEgyIkMrb+010T/APO7njeJpTTOrT43frM/O0REdp3rmdKmVMrazGJLExLOzbH1rVpSkJMK2sHHa49u0vV2Cj7mK1a3+D5Hh3rVz+ltX6UrfG5qa4bhr4+QHdmsWd2A216WAAIHUTv9qy8042O1gZGLsoueEesNKyGAPSIIj3rVxONi1kX7oE+IdoA7k9idv+1ZOYePC9aa16MrCFAXYRI79IFbtsqbb62OGcxXbNsW9LABPLvGqfYjYEfmG9QPG883rvikEEqAZMnbbrW5zXeV2sRHlx7SECNiFB7fIP3qBrVyXWQmlKVzUpSlB9BrKuW4EBjHpWGlFlsZbmQzfUSfn3rFSlC230pSlEKUpQKUpQKUpQKUpQKUpQK9BiOhNeaUNx61n1NejeNeBUvwrlnIyE12lBWYBJiTuYH6VucuUnoijcJ69varFwLk+5k2/F1qi7wT3jYn2AMCfU1XrtoqxVtiJBHoRtXS+D49m7jWPEZ1KW4IRgAR139Zbqdht1q23O0c54hhtZuPab6kJB+3+x61rVYeergfMdwI1KhjvsoG/vAqvVm/JSlKVkKUpQKUpQKUpQKUpQKUpQKUpQKUpQKUpQKUpQfRXTOE2NViwFveENCq6xM7ByfYloG3rXMxUlY4sygjU8Eadj0Gx232M9617IM/Nzg5l5lGzEEbRMgSfuZNaNjP0z5dyNJ36juPg9aw5N8u2okkkbk9TFSPBeXb2UC1oDSNiWMCdtq13k/hEXcuT+kV4rYz8NrNxrTiGUwf+3tG9a9Zu/NSlKVkKUpQKUpQKUpQKUpQKUpQKUpQKUpQKUpQKUpQKUpQfRXR+VMfxMO0q3jZILaoE6w7EHvEhR/YVzgVNcKvMqghiNtMTtDbHb4q38I3P4gEfihHa2qzETp1LJ99v7VWK3OJE6tyTAIkmT1NadPlApSlQKUpQKUpQKUpQKUpQKUpQf/Z\" alt=\"tsne\" width=\"400\" />"
   ]
  },
  {
   "cell_type": "markdown",
   "metadata": {
    "slideshow": {
     "slide_type": "slide"
    }
   },
   "source": [
    "# So... \n",
    "\n",
    "# <p style=\"text-align: center;\"> let's clean things up"
   ]
  },
  {
   "cell_type": "markdown",
   "metadata": {
    "slideshow": {
     "slide_type": "slide"
    }
   },
   "source": [
    "# Preprocessing"
   ]
  },
  {
   "cell_type": "markdown",
   "metadata": {
    "slideshow": {
     "slide_type": "slide"
    }
   },
   "source": [
    "# Preprocessing\n",
    "\n",
    "### First, let's look at what we get from the image lab..."
   ]
  },
  {
   "cell_type": "markdown",
   "metadata": {
    "slideshow": {
     "slide_type": "slide"
    }
   },
   "source": [
    "# Preprocessing\n",
    "\n",
    "## Step 1: Dicom to Nifti"
   ]
  },
  {
   "cell_type": "markdown",
   "metadata": {
    "slideshow": {
     "slide_type": "slide"
    }
   },
   "source": [
    "# Preprocessing\n",
    "\n",
    "## Step 1: Dicom to Nifti\n",
    "\n",
    "DICOM | NIFTI\n",
    ":----:|:----:\n",
    "Digital Imaging and Communications in Medicine | Neuroimaging Informatics Technology Initiative\n",
    "Many volumes are taken for one image | Processing is concerned with the composite\n",
    "The emphasis is acquisition and interchange standards | The emphasis is compactibility and interpretability"
   ]
  },
  {
   "cell_type": "markdown",
   "metadata": {
    "slideshow": {
     "slide_type": "slide"
    }
   },
   "source": [
    "# Preprocessing\n",
    "\n",
    "## Step 1: Dicom to Nifti \n",
    "### BIDS: Brain Imaging Data Structure \n",
    "\n",
    "![](https://media.springernature.com/full/nature-static/assets/v1/image-assets/sdata201644-f1.jpg)\n",
    "\n"
   ]
  },
  {
   "cell_type": "markdown",
   "metadata": {
    "slideshow": {
     "slide_type": "slide"
    }
   },
   "source": [
    "```python\n",
    "import os \n",
    "import subprocess\n",
    "\n",
    "\"\"\"\n",
    "Create a folder for each **subject**, then for each **modality**,\n",
    "and then distinguish each imaging 'run'.\n",
    "\"\"\"\n",
    "\n",
    "# create list for a single modality\n",
    "rawdiffs = list([rootr for rootr,dirnamesr,filenamesr in os.walk(subject)\\\n",
    "                if len(rootr.split('/'))==6 and 'DTI' in rootr.split('/')[3]])\n",
    "\n",
    "# generate the file structure and naming; and convert dcm to nii\n",
    "for rawdiff in rawdiffs:\n",
    "            run+=1\n",
    "            newfn = sub_name+'_run-0{}_dwi'.format(run) # new filename\n",
    "            newdir = os.path.join(main_dir,sub_name,'dwi/') # new path\n",
    "            # perform bash command dcm2niix\n",
    "            cmd = \"dcm2niix -b y -o {} -f {} {}\".format(newdir,newfn,rawdiff)\n",
    "            process = subprocess.Popen(cmd.split(), stdout=subprocess.PIPE)\n",
    "            output, error = process.communicate()\n",
    "            # move the file\n",
    "            if not os.path.exists(srcdata+sub_name):\n",
    "                os.mkdir(srcdata+sub_name)\n",
    "            os.rename(rawdiff,srcdata+sub_name+'/rawdcm_run-0{}/'.format(run))\n",
    "        run=0\n",
    "```"
   ]
  },
  {
   "cell_type": "markdown",
   "metadata": {
    "slideshow": {
     "slide_type": "slide"
    }
   },
   "source": [
    "PPMI | BIDS\n",
    ":----:|:----:\n",
    "![](ppmi_data_strxr.png) | ![](make_bids_data_strxr.png)"
   ]
  },
  {
   "cell_type": "code",
   "execution_count": 13,
   "metadata": {},
   "outputs": [
    {
     "data": {
      "text/plain": [
       "{'AcquisitionMatrixPE': 116,\n",
       " 'AcquisitionNumber': 1,\n",
       " 'AcquisitionTime': '10:36:41.432500',\n",
       " 'BandwidthPerPixelPhaseEncode': 23.618,\n",
       " 'BaseResolution': 116,\n",
       " 'ConversionSoftware': 'dcm2niix',\n",
       " 'ConversionSoftwareVersion': 'v1.0.20180622 (JP2:OpenJPEG) GCC6.1.0',\n",
       " 'DerivedVendorReportedEchoSpacing': 0.00073001,\n",
       " 'DeviceSerialNumber': '4TUMzYL029kw',\n",
       " 'DwellTime': 2.7e-06,\n",
       " 'EchoTime': 0.088,\n",
       " 'EffectiveEchoSpacing': 0.000365005,\n",
       " 'FlipAngle': 90,\n",
       " 'ImageOrientationPatientDICOM': [1, -1e-16, 0, 1e-16, 0.944949, -0.327218],\n",
       " 'ImageType': ['ORIGINAL', 'PRIMARY', 'M', 'ND', 'NORM', 'MOSAIC'],\n",
       " 'InPlanePhaseEncodingDirectionDICOM': 'COL',\n",
       " 'InstitutionName': 'Baylor_College_of_Medicine',\n",
       " 'MRAcquisitionType': '2D',\n",
       " 'MagneticFieldStrength': 3,\n",
       " 'Manufacturer': 'Siemens',\n",
       " 'ManufacturersModelName': 'TrioTim',\n",
       " 'Modality': 'MR',\n",
       " 'ParallelReductionFactorInPlane': 2,\n",
       " 'PartialFourier': 0.75,\n",
       " 'PatientPosition': 'HFS',\n",
       " 'PercentPhaseFOV': 100,\n",
       " 'PhaseEncodingDirection': 'j-',\n",
       " 'PhaseEncodingSteps': 90,\n",
       " 'PhaseResolution': 1,\n",
       " 'PixelBandwidth': 1595,\n",
       " 'ProtocolName': 'DTI',\n",
       " 'PulseSequenceDetails': '%SiemensSeq%_ep2d_diff',\n",
       " 'ReceiveCoilName': 'HeadMatrix',\n",
       " 'ReconMatrixPE': 116,\n",
       " 'RepetitionTime': 9,\n",
       " 'SAR': 0.2452,\n",
       " 'ScanOptions': 'PFP_FS',\n",
       " 'ScanningSequence': 'EP',\n",
       " 'SequenceName': '_ep_b0',\n",
       " 'SequenceVariant': 'SK_SP',\n",
       " 'SeriesDescription': 'DTI',\n",
       " 'SeriesNumber': 3,\n",
       " 'ShimSetting': [14415, -12729, 3293, 400, -102, -700, -291, -99],\n",
       " 'SliceThickness': 2,\n",
       " 'SliceTiming': [4.5175,\n",
       "  0,\n",
       "  4.6425,\n",
       "  0.125,\n",
       "  4.7675,\n",
       "  0.25,\n",
       "  4.895,\n",
       "  0.3775,\n",
       "  5.02,\n",
       "  0.5025,\n",
       "  5.145,\n",
       "  0.6275,\n",
       "  5.27,\n",
       "  0.7525,\n",
       "  5.395,\n",
       "  0.8775,\n",
       "  5.5225,\n",
       "  1.005,\n",
       "  5.6475,\n",
       "  1.13,\n",
       "  5.7725,\n",
       "  1.255,\n",
       "  5.8975,\n",
       "  1.38,\n",
       "  6.0225,\n",
       "  1.505,\n",
       "  6.15,\n",
       "  1.6325,\n",
       "  6.275,\n",
       "  1.7575,\n",
       "  6.4,\n",
       "  1.8825,\n",
       "  6.525,\n",
       "  2.0075,\n",
       "  6.65,\n",
       "  2.1325,\n",
       "  6.7775,\n",
       "  2.26,\n",
       "  6.9025,\n",
       "  2.385,\n",
       "  7.0275,\n",
       "  2.51,\n",
       "  7.1525,\n",
       "  2.635,\n",
       "  7.2775,\n",
       "  2.76,\n",
       "  7.405,\n",
       "  2.8875,\n",
       "  7.53,\n",
       "  3.0125,\n",
       "  7.655,\n",
       "  3.1375,\n",
       "  7.78,\n",
       "  3.2625,\n",
       "  7.905,\n",
       "  3.3875,\n",
       "  8.0325,\n",
       "  3.515,\n",
       "  8.1575,\n",
       "  3.64,\n",
       "  8.2825,\n",
       "  3.765,\n",
       "  8.4075,\n",
       "  3.89,\n",
       "  8.5325,\n",
       "  4.015,\n",
       "  8.66,\n",
       "  4.14,\n",
       "  8.785,\n",
       "  4.2675,\n",
       "  8.91,\n",
       "  4.3925],\n",
       " 'SoftwareVersions': 'syngo_MR_B15',\n",
       " 'SpacingBetweenSlices': 2,\n",
       " 'TotalReadoutTime': 0.0419756,\n",
       " 'TxRefAmp': 332.863}"
      ]
     },
     "execution_count": 13,
     "metadata": {},
     "output_type": "execute_result"
    }
   ],
   "source": [
    "\"\"\"\n",
    "dcm2niix creates a json file with pertinent header information\n",
    "\"\"\"\n",
    "{\n",
    "\t\"Modality\": \"MR\",\n",
    "\t\"MagneticFieldStrength\": 3,\n",
    "\t\"Manufacturer\": \"Siemens\",\n",
    "\t\"ManufacturersModelName\": \"TrioTim\",\n",
    "\t\"InstitutionName\": \"Baylor_College_of_Medicine\",\n",
    "\t\"DeviceSerialNumber\": \"4TUMzYL029kw\",\n",
    "\t\"PatientPosition\": \"HFS\",\n",
    "\t\"SoftwareVersions\": \"syngo_MR_B15\",\n",
    "\t\"MRAcquisitionType\": \"2D\",\n",
    "\t\"SeriesDescription\": \"DTI\",\n",
    "\t\"ProtocolName\": \"DTI\",\n",
    "\t\"ScanningSequence\": \"EP\",\n",
    "\t\"SequenceVariant\": \"SK_SP\",\n",
    "\t\"ScanOptions\": \"PFP_FS\",\n",
    "\t\"SequenceName\": \"_ep_b0\",\n",
    "\t\"ImageType\": [\"ORIGINAL\", \"PRIMARY\", \"M\", \"ND\", \"NORM\", \"MOSAIC\"],\n",
    "\t\"SeriesNumber\": 3,\n",
    "\t\"AcquisitionTime\": \"10:36:41.432500\",\n",
    "\t\"AcquisitionNumber\": 1,\n",
    "\t\"SliceThickness\": 2,\n",
    "\t\"SpacingBetweenSlices\": 2,\n",
    "\t\"SAR\": 0.2452,\n",
    "\t\"EchoTime\": 0.088,\n",
    "\t\"RepetitionTime\": 9,\n",
    "\t\"FlipAngle\": 90,\n",
    "\t\"PartialFourier\": 0.75,\n",
    "\t\"BaseResolution\": 116,\n",
    "\t\"ShimSetting\": [\n",
    "\t\t14415,\n",
    "\t\t-12729,\n",
    "\t\t3293,\n",
    "\t\t400,\n",
    "\t\t-102,\n",
    "\t\t-700,\n",
    "\t\t-291,\n",
    "\t\t-99\t],\n",
    "\t\"TxRefAmp\": 332.863,\n",
    "\t\"PhaseResolution\": 1,\n",
    "\t\"ReceiveCoilName\": \"HeadMatrix\",\n",
    "\t\"PulseSequenceDetails\": \"%SiemensSeq%_ep2d_diff\",\n",
    "\t\"PercentPhaseFOV\": 100,\n",
    "\t\"PhaseEncodingSteps\": 90,\n",
    "\t\"AcquisitionMatrixPE\": 116,\n",
    "\t\"ReconMatrixPE\": 116,\n",
    "\t\"BandwidthPerPixelPhaseEncode\": 23.618,\n",
    "\t\"ParallelReductionFactorInPlane\": 2,\n",
    "\t\"EffectiveEchoSpacing\": 0.000365005,\n",
    "\t\"DerivedVendorReportedEchoSpacing\": 0.00073001,\n",
    "\t\"TotalReadoutTime\": 0.0419756,\n",
    "\t\"PixelBandwidth\": 1595,\n",
    "\t\"DwellTime\": 2.7e-06,\n",
    "\t\"PhaseEncodingDirection\": \"j-\",\n",
    "\t\"SliceTiming\": [\n",
    "\t\t4.5175,\n",
    "\t\t0,\n",
    "\t\t4.6425,\n",
    "\t\t0.125,\n",
    "\t\t4.7675,\n",
    "\t\t0.25,\n",
    "\t\t4.895,\n",
    "\t\t0.3775,\n",
    "\t\t5.02,\n",
    "\t\t0.5025,\n",
    "\t\t5.145,\n",
    "\t\t0.6275,\n",
    "\t\t5.27,\n",
    "\t\t0.7525,\n",
    "\t\t5.395,\n",
    "\t\t0.8775,\n",
    "\t\t5.5225,\n",
    "\t\t1.005,\n",
    "\t\t5.6475,\n",
    "\t\t1.13,\n",
    "\t\t5.7725,\n",
    "\t\t1.255,\n",
    "\t\t5.8975,\n",
    "\t\t1.38,\n",
    "\t\t6.0225,\n",
    "\t\t1.505,\n",
    "\t\t6.15,\n",
    "\t\t1.6325,\n",
    "\t\t6.275,\n",
    "\t\t1.7575,\n",
    "\t\t6.4,\n",
    "\t\t1.8825,\n",
    "\t\t6.525,\n",
    "\t\t2.0075,\n",
    "\t\t6.65,\n",
    "\t\t2.1325,\n",
    "\t\t6.7775,\n",
    "\t\t2.26,\n",
    "\t\t6.9025,\n",
    "\t\t2.385,\n",
    "\t\t7.0275,\n",
    "\t\t2.51,\n",
    "\t\t7.1525,\n",
    "\t\t2.635,\n",
    "\t\t7.2775,\n",
    "\t\t2.76,\n",
    "\t\t7.405,\n",
    "\t\t2.8875,\n",
    "\t\t7.53,\n",
    "\t\t3.0125,\n",
    "\t\t7.655,\n",
    "\t\t3.1375,\n",
    "\t\t7.78,\n",
    "\t\t3.2625,\n",
    "\t\t7.905,\n",
    "\t\t3.3875,\n",
    "\t\t8.0325,\n",
    "\t\t3.515,\n",
    "\t\t8.1575,\n",
    "\t\t3.64,\n",
    "\t\t8.2825,\n",
    "\t\t3.765,\n",
    "\t\t8.4075,\n",
    "\t\t3.89,\n",
    "\t\t8.5325,\n",
    "\t\t4.015,\n",
    "\t\t8.66,\n",
    "\t\t4.14,\n",
    "\t\t8.785,\n",
    "\t\t4.2675,\n",
    "\t\t8.91,\n",
    "\t\t4.3925\t],\n",
    "\t\"ImageOrientationPatientDICOM\": [\n",
    "\t\t1,\n",
    "\t\t-1e-16,\n",
    "\t\t0,\n",
    "\t\t1e-16,\n",
    "\t\t0.944949,\n",
    "\t\t-0.327218\t],\n",
    "\t\"InPlanePhaseEncodingDirectionDICOM\": \"COL\",\n",
    "\t\"ConversionSoftware\": \"dcm2niix\",\n",
    "\t\"ConversionSoftwareVersion\": \"v1.0.20180622 (JP2:OpenJPEG) GCC6.1.0\"\n",
    "}\n"
   ]
  },
  {
   "cell_type": "code",
   "execution_count": 2,
   "metadata": {
    "slideshow": {
     "slide_type": "skip"
    }
   },
   "outputs": [],
   "source": [
    "import subprocess\n",
    "\n",
    "def bash_command(string_cmd): \n",
    "    process = subprocess.Popen(string_cmd.split(), stdout=subprocess.PIPE)\n",
    "    output, error = process.communicate()\n",
    "    return output"
   ]
  },
  {
   "cell_type": "code",
   "execution_count": 4,
   "metadata": {
    "slideshow": {
     "slide_type": "slide"
    }
   },
   "outputs": [
    {
     "data": {
      "text/plain": [
       "b''"
      ]
     },
     "execution_count": 4,
     "metadata": {},
     "output_type": "execute_result"
    }
   ],
   "source": [
    "# Let's check out our new nifty nifti image \n",
    "bash_command('fsleyes ./sub-05_run-01_dwi.nii')"
   ]
  },
  {
   "cell_type": "markdown",
   "metadata": {
    "slideshow": {
     "slide_type": "slide"
    }
   },
   "source": [
    "# Preprocessing"
   ]
  },
  {
   "cell_type": "markdown",
   "metadata": {
    "slideshow": {
     "slide_type": "slide"
    }
   },
   "source": [
    "# Preprocessing - MRI Anatomical Images\n",
    "\n",
    "# <p style=\"text-align: center;\"> Freesurfer (Harvard, MGH)\n",
    "\n",
    "<img src=\"https://www.researchgate.net/profile/Emily_Grossner/publication/325432970/figure/fig1/AS:634908254937090@1528385332118/Processing-stream-overview-of-the-FreeSurfer-recon-all-function-used-to-extract-gray.png\" alt=\"fs\" width=\"600\" />"
   ]
  },
  {
   "cell_type": "code",
   "execution_count": 5,
   "metadata": {
    "slideshow": {
     "slide_type": "slide"
    }
   },
   "outputs": [
    {
     "data": {
      "text/plain": [
       "b''"
      ]
     },
     "execution_count": 5,
     "metadata": {},
     "output_type": "execute_result"
    }
   ],
   "source": [
    "# \n",
    "bash_command('fsleyes sub-09_run-01_T1w.nii')"
   ]
  },
  {
   "cell_type": "markdown",
   "metadata": {
    "slideshow": {
     "slide_type": "slide"
    }
   },
   "source": [
    "``` bash\n",
    "#--------------------------------------------\n",
    "#@# MotionCor Sat Nov  3 12:02:41 EDT 2018\n",
    "```\n",
    "![](https://www.robinmedical.com/img/motion_correction_brain_example_66.jpg)"
   ]
  },
  {
   "cell_type": "markdown",
   "metadata": {
    "slideshow": {
     "slide_type": "slide"
    }
   },
   "source": [
    "``` bash\n",
    "#--------------------------------------------\n",
    "#@# Talairach Sat Nov  3 12:02:51 EDT 2018\n",
    "```\n",
    "\n",
    "![](https://www.researchgate.net/profile/Jean-Marie_Annoni/publication/9084261/figure/fig2/AS:281310720479244@1444081110604/Analysis-of-brain-lesions-in-Talairach-coordinates-MRI-scans-were-acquired-with-a-15-T.png)"
   ]
  },
  {
   "cell_type": "markdown",
   "metadata": {
    "slideshow": {
     "slide_type": "slide"
    }
   },
   "source": [
    "``` bash\n",
    "#--------------------------------------------\n",
    "#@# Nu Intensity Correction Sat Nov  3 12:04:16 EDT 2018\n",
    "mri_binarize --i ./tmp.mri_nu_correct.mni.14123/nu2.mnc --min -1 --o ./tmp.mri_nu_correct.mni.14123/ones.mgz\n",
    "#--------------------------------------------\n",
    "#@# Intensity Normalization Sat Nov  3 12:06:05 EDT 2018\n",
    "---------------------------------\n",
    "3d normalization pass 1 of 2\n",
    "white matter peak found at 110\n",
    "white matter peak found at 105\n",
    "gm peak at 56 (56), valley at 26 (26)\n",
    "csf peak at 29, setting threshold to 47\n",
    "building Voronoi diagram...\n",
    "performing soap bubble smoothing, sigma = 8...\n",
    "---------------------------------\n",
    "```"
   ]
  },
  {
   "cell_type": "markdown",
   "metadata": {
    "slideshow": {
     "slide_type": "slide"
    }
   },
   "source": [
    "#--------------------------------------------\n",
    "#@# Skull Stripping Sat Nov  3 12:08:11 EDT 2018\n",
    "\n",
    "\n",
    "<img src=\"data:image/jpeg;base64,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\" alt=\"strip\" width=\"600\" />"
   ]
  },
  {
   "cell_type": "code",
   "execution_count": null,
   "metadata": {
    "slideshow": {
     "slide_type": "slide"
    }
   },
   "outputs": [],
   "source": [
    "# Checkpoint: Lets check the progress\n",
    "bash_command('fsleyes sub-09_run-01_fs/mri/T1.mgz sub-09_run-01_fs/mri/brainmask.mgz')\n",
    "\n",
    "# and look at brain.mgz in MRIcro for surface viz"
   ]
  },
  {
   "cell_type": "code",
   "execution_count": null,
   "metadata": {
    "slideshow": {
     "slide_type": "slide"
    }
   },
   "outputs": [],
   "source": [
    "************************************************\n",
    "The input file is T1.mgz\n",
    "The output file is brainmask.auto.mgz\n",
    "Weighting the input with atlas information before watershed\n",
    "*************************WATERSHED**************************\n",
    "Sorting...\n",
    "      first estimation of the COG coord: x=122 y=124 z=105 r=95\n",
    "      first estimation of the main basin volume: 3617151 voxels\n",
    "      Looking for seedpoints \n",
    "        2 found in the cerebellum \n",
    "        15 found in the rest of the brain \n",
    "      global maximum in x=146, y=113, z=80, Imax=255\n",
    "      CSF=15, WM_intensity=110, WM_VARIANCE=5\n",
    "      WM_MIN=110, WM_HALF_MIN=110, WM_HALF_MAX=110, WM_MAX=110 \n",
    "      preflooding height equal to 10 percent\n",
    "done.\n",
    "Analyze...\n",
    "\n",
    "      main basin size=2383667146866273 voxels, voxel volume =1.000 \n",
    "                     = 2383667146866273 mmm3 = 2383667120832.512 cm3\n",
    "done.\n",
    "PostAnalyze...Basin Prior\n",
    " 141 basins merged thanks to atlas \n",
    "      ***** 0 basin(s) merged in 1 iteration(s)\n",
    "      ***** 0 voxel(s) added to the main basin\n",
    "done.\n",
    "Weighting the input with prior template "
   ]
  },
  {
   "cell_type": "markdown",
   "metadata": {
    "slideshow": {
     "slide_type": "slide"
    }
   },
   "source": [
    "a | b\n",
    ":---:|:---:\n",
    "![](https://imagej.net/_images/thumb/c/c5/Watershed-flooding-graph.png/250px-Watershed-flooding-graph.png) | <img src=\"https://support.qmenta.com/hc/article_attachments/360005968392/ANTs_labels.png\" alt=\"watershed\" width=\"500\" />\n",
    "\n",
    "mri_strip_skull: done peeling brain\n",
    "\n"
   ]
  },
  {
   "cell_type": "code",
   "execution_count": null,
   "metadata": {
    "slideshow": {
     "slide_type": "slide"
    }
   },
   "outputs": [],
   "source": [
    "# Checkpoint\n",
    "bash_command('freeview -v aseg.presurf.mgz:colormap=lut:opacity=1.0')\n",
    "# pretty good, but edges are not quite right"
   ]
  },
  {
   "cell_type": "markdown",
   "metadata": {
    "slideshow": {
     "slide_type": "slide"
    }
   },
   "source": [
    "``` bash\n",
    "#--------------------------------------\n",
    "#@# SubCort Seg Sat Nov  3 14:31:51 EDT 2018\n",
    "#--------------------------------------------\n",
    "#@# WM Segmentation Sat Nov  3 15:23:59 EDT 2018\n",
    "#--------------------------------------------\n",
    "#@# Tessellate lh Sat Nov  3 15:26:37 EDT 2018\n",
    "#--------------------------------------------\n",
    "```\n",
    "![](http://www.brainvoyager.com/bvqx/doc/UsersGuide/Segmentation/Images/AutoSegSurfReco2.png) "
   ]
  },
  {
   "cell_type": "markdown",
   "metadata": {
    "slideshow": {
     "slide_type": "slide"
    }
   },
   "source": [
    "``` bash\n",
    "#@# Smooth1 rh Sat Nov  3 15:26:55 EDT 2018\n",
    "#--------------------------------------------\n",
    "#@# Inflation1 lh Sat Nov  3 15:27:02 EDT 2018\n",
    "#--------------------------------------------\n",
    "#@# Fix Topology Copy lh Sat Nov  3 15:33:20 EDT 2018\n",
    "topology fixing took 103.9 minutes\n",
    " ```\n",
    " \n",
    "![](https://encrypted-tbn0.gstatic.com/images?q=tbn:ANd9GcQxhcrHIRQqGTw9GhZEd17fxd3s08JtI6WKQ7ksYQKjAnwsQ2ryxg)"
   ]
  },
  {
   "cell_type": "code",
   "execution_count": null,
   "metadata": {
    "slideshow": {
     "slide_type": "slide"
    }
   },
   "outputs": [],
   "source": [
    "# see wm.seg.mgz in MRIcro!"
   ]
  },
  {
   "cell_type": "markdown",
   "metadata": {
    "slideshow": {
     "slide_type": "slide"
    }
   },
   "source": [
    "_ | _\n",
    ":----:|:---:\n",
    "#@# Make White Surf lh Sat Nov  3 23:57:50 EDT 2018 <br> #@# Surf Reg rh Sun Nov  4 01:51:36 EDT 2018 <br> #@# Jacobian white lh Sun Nov  4 01:45:45 EST 2018 <br> #@# AvgCurv lh Sun Nov  4 01:45:48 EST 2018 <br> #@# Cortical Parc lh Sun Nov  4 01:45:51 EST 2018 <br> #@# Make Pial Surf lh Sun Nov  4 01:46:16 EST 2018 <br> #@# Surf Volume lh Sun Nov  4 02:10:26 EST 2018 <br> #@# Cortical ribbon mask Sun Nov  4 02:10:32 EST 2018 | <img src=\"https://img.huffingtonpost.com/asset/578672c91a000017006fa334.jpg?ops=scalefit_820_noupscale\" alt=\"ribb\" width=\"400\" />"
   ]
  },
  {
   "cell_type": "code",
   "execution_count": null,
   "metadata": {
    "slideshow": {
     "slide_type": "slide"
    }
   },
   "outputs": [],
   "source": [
    "bash_command('fsleyes rh.ribbon.mgz')"
   ]
  },
  {
   "cell_type": "markdown",
   "metadata": {
    "slideshow": {
     "slide_type": "slide"
    }
   },
   "source": [
    "# This takes a long time!\n",
    "\n",
    "``` bash\n",
    "Started at Sat Nov 3 12:02:31 EDT 2018 \n",
    "Ended   at Sun Nov 4 02:55:07 EST 2018\n",
    "#@#%# recon-all-run-time-hours 15.877\n",
    "recon-all -s sub-02_run_01_fs finished without error at Sun Nov  4 02:55:07 EST 2018\n",
    "done\n",
    "```"
   ]
  },
  {
   "cell_type": "code",
   "execution_count": null,
   "metadata": {
    "slideshow": {
     "slide_type": "slide"
    }
   },
   "outputs": [],
   "source": [
    "# Bust yields a nice result: Let's take a look!\n",
    "\n",
    "bash_command('freeview -v sub-09_run-01_fs/mri/T1.mgz sub-09_run-01_fs/mri/wm.mgz sub-09_run-01_fs/mri/brainmask.mgz sub-09_run-01_fs/mri/aseg.mgz:colormap=lut:opacity=0.5 -f sub-09_run-01_fs/surf/lh.white:edgecolor=blue sub-09_run-01_fs/surf/lh.pial:edgecolor=red sub-09_run-01_fs/surf/rh.white:edgecolor=blue sub-09_run-01_fs/surf/rh.pial:edgecolor=red')"
   ]
  },
  {
   "cell_type": "markdown",
   "metadata": {
    "slideshow": {
     "slide_type": "slide"
    }
   },
   "source": [
    "# The time requirement and limitations of traditional registration/segmentation of MRI data has led to deep learning-based approaches... "
   ]
  },
  {
   "cell_type": "markdown",
   "metadata": {
    "slideshow": {
     "slide_type": "slide"
    }
   },
   "source": [
    "# Deep Learning tackles Segmentation: \n",
    "\n",
    "![](Raunak.png)"
   ]
  },
  {
   "cell_type": "markdown",
   "metadata": {
    "slideshow": {
     "slide_type": "slide"
    }
   },
   "source": [
    "# Preprocessing - DWI (Connectivity)\n",
    "\n",
    "# <p style=\"text-align: center;\"> FMRIB Software Library - FSL (University of Oxford)\n",
    "\n",
    "FSL | pipeline of libraries\n",
    ":---:|:---:\n",
    "<img src=\"https://encrypted-tbn0.gstatic.com/images?q=tbn:ANd9GcSukEpCMgi7M7bJdh2IpF9TGYbVhAljuokZCLIUMzi7ewqFL2Kn\" alt=\"fsllogo\" width=\"400\" /> | !<img src=\"https://www.frontiersin.org/files/Articles/238590/fninf-11-00017-HTML/image_m/fninf-11-00017-g001.jpg\" alt=\"fsl\" width=\"400\" />"
   ]
  },
  {
   "cell_type": "markdown",
   "metadata": {
    "slideshow": {
     "slide_type": "slide"
    }
   },
   "source": [
    "# The key to dwi preprocessing: the b0\n",
    "\n",
    "<img src=\"http://3.bp.blogspot.com/-hUiCjTQichQ/UjHH66680MI/AAAAAAAABf8/VNCMmOj_3aQ/s1600/scan_info.png\" alt=\"b0\" width=\"600\" />"
   ]
  },
  {
   "cell_type": "code",
   "execution_count": null,
   "metadata": {
    "slideshow": {
     "slide_type": "slide"
    }
   },
   "outputs": [],
   "source": [
    "# Find the b0 image in our dwi nifti file \n",
    "bash_command('fsleyes ./sub-05_run-01_dwi.nii')"
   ]
  },
  {
   "cell_type": "code",
   "execution_count": 3,
   "metadata": {
    "slideshow": {
     "slide_type": "slide"
    }
   },
   "outputs": [
    {
     "data": {
      "text/plain": [
       "b''"
      ]
     },
     "execution_count": 3,
     "metadata": {},
     "output_type": "execute_result"
    }
   ],
   "source": [
    "# Produce b0's for 2 or more acquisitions\n",
    "bash_command('fslroi sub-05_run-01_dwi sub-05_run-01_b0 0 1')\n",
    "bash_command('fslroi sub-05_run-02_dwi sub-05_run-02_b0 0 1')\n",
    "bash_command('fslroi sub-05_run-03_dwi sub-05_run-03_b0 0 1')\n",
    "\n",
    "# merge the b0's\n",
    "bash_command('fslmerge -t sub-05_run-01-02-03_b0 sub-05_run-01_b0 sub-05_run-02_b0 sub-05_run-03_b0')\n",
    "bash_command('fsleyes ./sub-05_run-01-02-03_b0.nii.gz')"
   ]
  },
  {
   "cell_type": "markdown",
   "metadata": {
    "slideshow": {
     "slide_type": "slide"
    }
   },
   "source": [
    "### The acquisition parameters:\n",
    "\n",
    "+ Each acquisition (image) has a phase encode direction and a readout time (image acquisition)\n",
    "\n",
    "``` python\n",
    "\"TotalReadoutTime\": 0.0419756,\n",
    "\"PhaseEncodingDirection\": \"j-\",\n",
    "```\n",
    "+ Need at least two files that have opposing phase encode directions (along same axis) or different readout times\n"
   ]
  },
  {
   "cell_type": "code",
   "execution_count": null,
   "metadata": {
    "slideshow": {
     "slide_type": "slide"
    }
   },
   "outputs": [],
   "source": [
    "# Write file containing acquisition parameters\n",
    "bash_command('printf \"0 -1 0 0.0419756\\n0 -1 0 0.0419756\\n 0 -1 0 0.0408244\" > acq.txt')"
   ]
  },
  {
   "cell_type": "markdown",
   "metadata": {
    "slideshow": {
     "slide_type": "slide"
    }
   },
   "source": [
    "# FSL - topup\n",
    "\n",
    "## Susceptibility Artificts\n",
    "#### External magnetic fields induce local fields!\n",
    "\n",
    "![](https://www.omicsonline.org/articles-images/brain-disorders-therapy-susceptibility-artifact-6-229-g003.png)"
   ]
  },
  {
   "cell_type": "code",
   "execution_count": null,
   "metadata": {
    "slideshow": {
     "slide_type": "slide"
    }
   },
   "outputs": [],
   "source": [
    "# run topup\n",
    "bash_command('topup --imain=sub-05_run-01-02-03_b0 --datain=acq.txt --config=b02b0.cnf --out=sub-05_run-01-02-03_topup --iout=sub-05_run-01-02-03_b0_topup')"
   ]
  },
  {
   "cell_type": "code",
   "execution_count": 5,
   "metadata": {
    "slideshow": {
     "slide_type": "slide"
    }
   },
   "outputs": [
    {
     "data": {
      "text/plain": [
       "b''"
      ]
     },
     "execution_count": 5,
     "metadata": {},
     "output_type": "execute_result"
    }
   ],
   "source": [
    "bash_command('fsleyes sub-05_run-01-02-03_b0.nii.gz sub-05_run-01-02-03_b0_topup.nii.gz')"
   ]
  },
  {
   "cell_type": "code",
   "execution_count": 7,
   "metadata": {
    "slideshow": {
     "slide_type": "slide"
    }
   },
   "outputs": [
    {
     "data": {
      "text/plain": [
       "b''"
      ]
     },
     "execution_count": 7,
     "metadata": {},
     "output_type": "execute_result"
    }
   ],
   "source": [
    "# create mask\n",
    "bash_command('fslmaths sub-05_run-01-02-03_b0_topup -Tmean sub-05_run-01-02-03_b0_topup')\n",
    "bash_command('bet sub-05_run-01-02-03_b0_topup sub-05_run-01-02-03_b0_brain -m')\n",
    "bash_command('fsleyes sub-05_run-01-02-03_b0_brain.nii.gz sub-05_run-01-02-03_b0_brain_mask.nii.gz sub-05_run-01-02-03_b0_topup.nii.gz')"
   ]
  },
  {
   "cell_type": "code",
   "execution_count": null,
   "metadata": {
    "slideshow": {
     "slide_type": "slide"
    }
   },
   "outputs": [],
   "source": [
    "# instruct fsl which slices belong to which acquisition parameters\n",
    "bash_command('indx=\"\"')\n",
    "bash_command('for ((i=1; i<=65; i+=1)); do indx=\"$indx 1\"; done')\n",
    "bash_command('echo $indx > index.txt')"
   ]
  },
  {
   "cell_type": "markdown",
   "metadata": {
    "slideshow": {
     "slide_type": "slide"
    }
   },
   "source": [
    "# FSL - eddy\n",
    "\n",
    "eddy currents | dwi\n",
    ":---:|:---:\n",
    "![](http://mriquestions.com/uploads/3/4/5/7/34572113/1098947_orig.gif) | <img src=\"data:image/jpeg;base64,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\" alt=\"eddy\" width=\"500\" />"
   ]
  },
  {
   "cell_type": "markdown",
   "metadata": {
    "slideshow": {
     "slide_type": "slide"
    }
   },
   "source": [
    "```python\n",
    "# run eddy \n",
    "\n",
    "eddy --imain=sub-05_run-01_dwi --mask=sub-05_run-01-02-03_b0_brain_mask\\\n",
    "    --acqp=acq.txt --index=index.txt --bvecs=sub-05_run-01_dwi.bvec\\\n",
    "    --bvals=sub-05_run-01_dwi.bval --topup=sub-05_run-01-02-03_topup\\\n",
    "    --out=sub-05_run-01_eddycorrected\n",
    "```\n",
    "\n",
    "`eddy_cuda`:\n",
    "+ basic eddy takes quite a long time to run\n",
    "+ can be run on a GPU, but uses CUDA version 7.5"
   ]
  },
  {
   "cell_type": "code",
   "execution_count": 8,
   "metadata": {
    "slideshow": {
     "slide_type": "slide"
    }
   },
   "outputs": [
    {
     "data": {
      "text/plain": [
       "b''"
      ]
     },
     "execution_count": 8,
     "metadata": {},
     "output_type": "execute_result"
    }
   ],
   "source": [
    "bash_command('fsleyes sub-05_run-01_eddycorrected.nii.gz sub-05_run-01-02-03_b0_brain.nii.gz')"
   ]
  },
  {
   "cell_type": "markdown",
   "metadata": {
    "slideshow": {
     "slide_type": "slide"
    }
   },
   "source": [
    "## Now that our Diffusion-weighted images are cleaned, \n",
    "\n",
    "# Let's track those fibers!!"
   ]
  },
  {
   "cell_type": "markdown",
   "metadata": {
    "slideshow": {
     "slide_type": "slide"
    }
   },
   "source": [
    "## Now that our Diffusion-weighted images are cleaned, \n",
    "\n",
    "# Let's track those fibers!!\n",
    "\n",
    "### There are many different methods, we'll stick with our trusted Freesurfer Software...."
   ]
  },
  {
   "cell_type": "markdown",
   "metadata": {
    "slideshow": {
     "slide_type": "slide"
    }
   },
   "source": [
    "# DWI Image Processing - Tractography\n",
    "\n",
    "# <p style=\"text-align: center;\"> TRActs Constrained by UnderLying Anatomy (TRACULA) by Freesurfer\n",
    "\n",
    "<img src=\"https://docplayer.net/docs-images/80/81529733/images/3-0.jpg\" alt=\"tracula\" width=\"600\" />"
   ]
  },
  {
   "cell_type": "markdown",
   "metadata": {
    "slideshow": {
     "slide_type": "slide"
    }
   },
   "source": [
    "First, TRACULA runs some quality assessment of our images\n",
    "e.g., although head motion can be corrected in the anatomical images via registration,\n",
    "this cannot be corrected in dwi images.."
   ]
  },
  {
   "cell_type": "code",
   "execution_count": 3,
   "metadata": {
    "slideshow": {
     "slide_type": "slide"
    }
   },
   "outputs": [
    {
     "data": {
      "text/plain": [
       "b'AvgTranslation AvgRotation PercentBadSlices AvgDropoutScore\\n0.566605 0.0028432 0 1\\n'"
      ]
     },
     "execution_count": 3,
     "metadata": {},
     "output_type": "execute_result"
    }
   ],
   "source": [
    "# So let's check the output from the head motion assessment:\n",
    "\n",
    "bash_command(\"cat dwi_motion.txt\")"
   ]
  },
  {
   "cell_type": "markdown",
   "metadata": {
    "slideshow": {
     "slide_type": "slide"
    }
   },
   "source": [
    "\"Our subject was pretty well-behaved!\n",
    "\n",
    "These motion measures can be used to ensure that groups of subjects are matched with respect to head motion, \n",
    "or to introduce head motion as a nuissance regressor in group analyses\" (Tracula Wiki)"
   ]
  },
  {
   "cell_type": "code",
   "execution_count": 6,
   "metadata": {
    "slideshow": {
     "slide_type": "slide"
    }
   },
   "outputs": [
    {
     "data": {
      "text/plain": [
       "b''"
      ]
     },
     "execution_count": 6,
     "metadata": {},
     "output_type": "execute_result"
    }
   ],
   "source": [
    "# Let's look at the tensorfit results:\n",
    "\n",
    "# FA in native space:\n",
    "bash_command('freeview ./dtifit_FA.nii.gz') # use NIH color scheme\n",
    "# Follow the paths of high FA!"
   ]
  },
  {
   "cell_type": "code",
   "execution_count": 14,
   "metadata": {
    "slideshow": {
     "slide_type": "slide"
    }
   },
   "outputs": [
    {
     "data": {
      "text/plain": [
       "b''"
      ]
     },
     "execution_count": 14,
     "metadata": {},
     "output_type": "execute_result"
    }
   ],
   "source": [
    "# FA in MNI space\n",
    "bash_command('freeview -v ./MNI152_T1_1mm_brain.nii.gz ./dtifit_FA.bbr.nii.gz') # use NIH color scheme\n",
    "# Follow the paths of high FA!\n",
    "# Adjust the opacity of each image to see the quality of registration"
   ]
  },
  {
   "cell_type": "markdown",
   "metadata": {
    "slideshow": {
     "slide_type": "slide"
    }
   },
   "source": [
    "# The registration on this image actually looks pretty bad! :(\n",
    "\n",
    "# There are many more options: \n",
    "\n",
    "#### e.g., Comparison of nine tractography algorithms for detecting abnormal structural brain networks in Alzheimer’s disease (Zhan et al)\n",
    "\n",
    "_ | _\n",
    ":---:|:---:\n",
    "<p style=\"text-align: left;\">+ Tensor-based deterministic approaches: <br> &nbsp;&nbsp;&nbsp;&nbsp;+ Fiber Assignment by Conitnuous Tracking (FACT) <br> &nbsp;&nbsp;&nbsp;&nbsp;+ the 2nd-order Runge-Kutta (RK2) <br> &nbsp;&nbsp;&nbsp;&nbsp;+ Interpolated streamline (SL) <br> &nbsp;&nbsp;&nbsp;&nbsp;+ tensorline (TL) <br> + Orientation Dristribution Function (ODF)-based deterministic approach <br> &nbsp;&nbsp;&nbsp;&nbsp;+ ODF-RK2 <br> + ODF-based probablistic approach <br> &nbsp;&nbsp;&nbsp;&nbsp;+ Hugh voting | <img src=\"https://slideplayer.com/slide/10499391/35/images/4/Deterministic+vs.+probabilistic.jpg\" alt=\"tract\" width=\"400\" />\n"
   ]
  },
  {
   "cell_type": "markdown",
   "metadata": {
    "slideshow": {
     "slide_type": "slide"
    }
   },
   "source": [
    "# Next Steps: \n",
    "### Re: reproducing the results from Multi-View Graph Convolutional Network and Its Applications on Neuroimage Analysis for Parkinson’s Disease (Zhang et al)\n",
    "\n",
    "+ After preprocessing, construct the graphs\n",
    "+ Brain Geometry Graph (BGG):\n",
    "    + Constructed from MRI images\n",
    "    + Each vertex = the center voxel of each region\n",
    "    + The edges are formed as a KNN graph\n",
    "+ Brain Connectivity Graph (BCG):\n",
    "    + Constructed from the DTI tractography outputs\n",
    "    + the ROI's are used as vertices\n",
    "    + The edges are determined and weighted by the fiber tracts"
   ]
  },
  {
   "cell_type": "markdown",
   "metadata": {},
   "source": [
    "# My contributions: \n",
    "\n",
    "+ add another modality: fMRI\n",
    "+ pretrain the network using RBM\n",
    "    + re: # Restricted Boltzmann machines for neuroimaging: An application in identifying intrinsic networks (Hjelm et al)\n",
    "+ explore differences related to the disease progression re: subtyping\n"
   ]
  },
  {
   "cell_type": "markdown",
   "metadata": {},
   "source": [
    "simTB fMRI simulation | ICA | RBM\n",
    ":-----:|:-----:|:-----:\n",
    "<img src=\"simexp_model.jpg\" alt=\"sim\" width=\"300\" /> | <img src=\"ica_component_5.png\" alt=\"ica\" width=\"300\" /> <img src=\"ica_component_3.png\" alt=\"ica\" width=\"300\" /> | ![](neuron_3.png) ![](neuron_5.png) ![](neuron_9.png) ![](neuron_51.png) "
   ]
  },
  {
   "cell_type": "code",
   "execution_count": null,
   "metadata": {},
   "outputs": [],
   "source": []
  }
 ],
 "metadata": {
  "celltoolbar": "Slideshow",
  "kernelspec": {
   "display_name": "Python 3",
   "language": "python",
   "name": "python3"
  },
  "language_info": {
   "codemirror_mode": {
    "name": "ipython",
    "version": 3
   },
   "file_extension": ".py",
   "mimetype": "text/x-python",
   "name": "python",
   "nbconvert_exporter": "python",
   "pygments_lexer": "ipython3",
   "version": "3.6.4"
  }
 },
 "nbformat": 4,
 "nbformat_minor": 2
}
